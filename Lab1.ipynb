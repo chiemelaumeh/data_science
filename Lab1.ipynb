{
 "cells": [
  {
   "cell_type": "markdown",
   "id": "a3208986",
   "metadata": {},
   "source": [
    "In this Lab, we will practice in Numpy, Pandas and simple linear regression. We will use the dataset mtcars."
   ]
  },
  {
   "cell_type": "code",
   "execution_count": 9,
   "id": "9648665c",
   "metadata": {},
   "outputs": [],
   "source": [
    "import pandas as pd\n",
    "import numpy as np\n",
    "import matplotlib.pyplot as plt\n",
    "import statsmodels.api as sm"
   ]
  },
  {
   "cell_type": "markdown",
   "id": "a399967a",
   "metadata": {},
   "source": [
    "Use the dataset cars.csv "
   ]
  },
  {
   "cell_type": "code",
   "execution_count": 10,
   "id": "89afb1ef",
   "metadata": {
    "scrolled": true
   },
   "outputs": [
    {
     "data": {
      "text/html": [
       "<div>\n",
       "<style scoped>\n",
       "    .dataframe tbody tr th:only-of-type {\n",
       "        vertical-align: middle;\n",
       "    }\n",
       "\n",
       "    .dataframe tbody tr th {\n",
       "        vertical-align: top;\n",
       "    }\n",
       "\n",
       "    .dataframe thead th {\n",
       "        text-align: right;\n",
       "    }\n",
       "</style>\n",
       "<table border=\"1\" class=\"dataframe\">\n",
       "  <thead>\n",
       "    <tr style=\"text-align: right;\">\n",
       "      <th></th>\n",
       "      <th>make</th>\n",
       "      <th>model</th>\n",
       "      <th>mpg</th>\n",
       "      <th>cyl</th>\n",
       "      <th>disp</th>\n",
       "      <th>hp</th>\n",
       "      <th>drat</th>\n",
       "      <th>wt</th>\n",
       "      <th>qsec</th>\n",
       "      <th>vs</th>\n",
       "      <th>am</th>\n",
       "      <th>gear</th>\n",
       "      <th>carb</th>\n",
       "    </tr>\n",
       "  </thead>\n",
       "  <tbody>\n",
       "    <tr>\n",
       "      <th>0</th>\n",
       "      <td>Mazda</td>\n",
       "      <td>Mazda RX4</td>\n",
       "      <td>21.0</td>\n",
       "      <td>6</td>\n",
       "      <td>160.0</td>\n",
       "      <td>110</td>\n",
       "      <td>3.90</td>\n",
       "      <td>2.620</td>\n",
       "      <td>16.46</td>\n",
       "      <td>0</td>\n",
       "      <td>1</td>\n",
       "      <td>4</td>\n",
       "      <td>4</td>\n",
       "    </tr>\n",
       "    <tr>\n",
       "      <th>1</th>\n",
       "      <td>Mazda</td>\n",
       "      <td>Mazda RX4 Wag</td>\n",
       "      <td>21.0</td>\n",
       "      <td>6</td>\n",
       "      <td>160.0</td>\n",
       "      <td>110</td>\n",
       "      <td>3.90</td>\n",
       "      <td>2.875</td>\n",
       "      <td>17.02</td>\n",
       "      <td>0</td>\n",
       "      <td>1</td>\n",
       "      <td>4</td>\n",
       "      <td>4</td>\n",
       "    </tr>\n",
       "    <tr>\n",
       "      <th>2</th>\n",
       "      <td>Datsun</td>\n",
       "      <td>Datsun 710</td>\n",
       "      <td>22.8</td>\n",
       "      <td>4</td>\n",
       "      <td>108.0</td>\n",
       "      <td>93</td>\n",
       "      <td>3.85</td>\n",
       "      <td>2.320</td>\n",
       "      <td>18.61</td>\n",
       "      <td>1</td>\n",
       "      <td>1</td>\n",
       "      <td>4</td>\n",
       "      <td>1</td>\n",
       "    </tr>\n",
       "    <tr>\n",
       "      <th>3</th>\n",
       "      <td>Hornet</td>\n",
       "      <td>Hornet 4 Drive</td>\n",
       "      <td>21.4</td>\n",
       "      <td>6</td>\n",
       "      <td>258.0</td>\n",
       "      <td>110</td>\n",
       "      <td>3.08</td>\n",
       "      <td>3.215</td>\n",
       "      <td>19.44</td>\n",
       "      <td>1</td>\n",
       "      <td>0</td>\n",
       "      <td>3</td>\n",
       "      <td>1</td>\n",
       "    </tr>\n",
       "    <tr>\n",
       "      <th>4</th>\n",
       "      <td>Hornet</td>\n",
       "      <td>Hornet Sportabout</td>\n",
       "      <td>18.7</td>\n",
       "      <td>8</td>\n",
       "      <td>360.0</td>\n",
       "      <td>175</td>\n",
       "      <td>3.15</td>\n",
       "      <td>3.440</td>\n",
       "      <td>17.02</td>\n",
       "      <td>0</td>\n",
       "      <td>0</td>\n",
       "      <td>3</td>\n",
       "      <td>2</td>\n",
       "    </tr>\n",
       "  </tbody>\n",
       "</table>\n",
       "</div>"
      ],
      "text/plain": [
       "     make              model   mpg  cyl   disp   hp  drat     wt   qsec  vs  \\\n",
       "0   Mazda          Mazda RX4  21.0    6  160.0  110  3.90  2.620  16.46   0   \n",
       "1   Mazda      Mazda RX4 Wag  21.0    6  160.0  110  3.90  2.875  17.02   0   \n",
       "2  Datsun         Datsun 710  22.8    4  108.0   93  3.85  2.320  18.61   1   \n",
       "3  Hornet     Hornet 4 Drive  21.4    6  258.0  110  3.08  3.215  19.44   1   \n",
       "4  Hornet  Hornet Sportabout  18.7    8  360.0  175  3.15  3.440  17.02   0   \n",
       "\n",
       "   am  gear  carb  \n",
       "0   1     4     4  \n",
       "1   1     4     4  \n",
       "2   1     4     1  \n",
       "3   0     3     1  \n",
       "4   0     3     2  "
      ]
     },
     "execution_count": 10,
     "metadata": {},
     "output_type": "execute_result"
    }
   ],
   "source": [
    "cars_df = pd.read_csv(filepath_or_buffer='cars.csv')\n",
    "cars_df.head()"
   ]
  },
  {
   "cell_type": "markdown",
   "id": "d6da17ed",
   "metadata": {},
   "source": [
    "1.Convert the column mpg to numpy array and print the array. (5)"
   ]
  },
  {
   "cell_type": "code",
   "execution_count": 11,
   "id": "9aec0d20",
   "metadata": {},
   "outputs": [
    {
     "name": "stdout",
     "output_type": "stream",
     "text": [
      "[21.  21.  22.8 21.4 18.7 18.1 14.3 24.4 22.8 19.2 17.8 16.4 17.3 15.2\n",
      " 10.4 10.4 14.7 32.4 30.4 33.9 21.5 15.5 15.2 13.3 19.2 27.3 26.  30.4\n",
      " 15.8 19.7 15.  21.4]\n"
     ]
    }
   ],
   "source": [
    " mpg =np.array(np.genfromtxt('cars.csv',  delimiter=',', skip_header=1, usecols=(2)))\n",
    " print(mpg)"
   ]
  },
  {
   "cell_type": "markdown",
   "id": "dda25532",
   "metadata": {},
   "source": [
    "2. calculate how many cars' mpg is under 15. (5)"
   ]
  },
  {
   "cell_type": "code",
   "execution_count": 134,
   "id": "113a887a",
   "metadata": {},
   "outputs": [
    {
     "name": "stdout",
     "output_type": "stream",
     "text": [
      "5\n"
     ]
    }
   ],
   "source": [
    "check = (mpg < 15)\n",
    "count_under_15 = np.count_nonzero(check)\n",
    "print(count_under_15)"
   ]
  },
  {
   "cell_type": "markdown",
   "id": "289ff8d7",
   "metadata": {},
   "source": [
    "3.Show the models that their mpg is under 15. (10)"
   ]
  },
  {
   "cell_type": "code",
   "execution_count": 135,
   "id": "d227f0a3",
   "metadata": {
    "scrolled": true
   },
   "outputs": [
    {
     "name": "stdout",
     "output_type": "stream",
     "text": [
      "6              Duster 360\n",
      "14     Cadillac Fleetwood\n",
      "15    Lincoln Continental\n",
      "16      Chrysler Imperial\n",
      "23             Camaro Z28\n",
      "Name: model, dtype: object\n"
     ]
    }
   ],
   "source": [
    "mpg_under_15 = cars_df[\"mpg\"] < 15\n",
    "models_under_15 = cars_df.loc[mpg_under_15, \"model\"]\n",
    "print(models_under_15)"
   ]
  },
  {
   "cell_type": "markdown",
   "id": "67333d12",
   "metadata": {},
   "source": [
    "4.Show how many unique make does the dataset have and print them out. (10)"
   ]
  },
  {
   "cell_type": "code",
   "execution_count": 136,
   "id": "a37f4060",
   "metadata": {
    "scrolled": true
   },
   "outputs": [
    {
     "name": "stdout",
     "output_type": "stream",
     "text": [
      "22\n",
      "['Mazda' 'Datsun' 'Hornet' 'Valiant' 'Duster' 'Merc' 'Cadillac' 'Lincoln'\n",
      " 'Chrysler' 'Fiat' 'Honda' 'Toyota' 'Dodge' 'AMC' 'Camaro' 'Pontiac'\n",
      " 'Porsche' 'Lotus' 'Ford' 'Ferrari' 'Maserati' 'Volvo']\n"
     ]
    }
   ],
   "source": [
    "unique_cars = cars_df['make'].unique()\n",
    "print(len(unique_cars))\n",
    "print(unique_cars)"
   ]
  },
  {
   "cell_type": "markdown",
   "id": "e87413d8",
   "metadata": {},
   "source": [
    "5.Show how many cars each make has. (10)"
   ]
  },
  {
   "cell_type": "code",
   "execution_count": 137,
   "id": "8dc48950",
   "metadata": {},
   "outputs": [
    {
     "name": "stdout",
     "output_type": "stream",
     "text": [
      "make\n",
      "Merc        7\n",
      "Mazda       2\n",
      "Fiat        2\n",
      "Toyota      2\n",
      "Hornet      2\n",
      "Duster      1\n",
      "Camaro      1\n",
      "Maserati    1\n",
      "Ferrari     1\n",
      "Ford        1\n",
      "Lotus       1\n",
      "Porsche     1\n",
      "Pontiac     1\n",
      "AMC         1\n",
      "Valiant     1\n",
      "Dodge       1\n",
      "Datsun      1\n",
      "Honda       1\n",
      "Chrysler    1\n",
      "Lincoln     1\n",
      "Cadillac    1\n",
      "Volvo       1\n",
      "Name: count, dtype: int64\n"
     ]
    }
   ],
   "source": [
    "make_appearance = cars_df[\"make\"].value_counts()\n",
    "print(make_appearance)"
   ]
  },
  {
   "cell_type": "markdown",
   "id": "2d67a54f",
   "metadata": {},
   "source": [
    "6.Creat the scatter plot with X axis is hp and Y axis is mpg.(10)"
   ]
  },
  {
   "cell_type": "code",
   "execution_count": 138,
   "id": "75fbacdd",
   "metadata": {},
   "outputs": [
    {
     "data": {
      "text/plain": [
       "<Axes: xlabel='hp', ylabel='mpg'>"
      ]
     },
     "execution_count": 138,
     "metadata": {},
     "output_type": "execute_result"
    },
    {
     "data": {
      "image/png": "[encoded data removed]",
      "text/plain": [
       "<Figure size 600x400 with 1 Axes>"
      ]
     },
     "metadata": {},
     "output_type": "display_data"
    }
   ],
   "source": [
    "cars_df.plot(kind = \"scatter\", x = \"hp\", y = \"mpg\", figsize = (6,4))"
   ]
  },
  {
   "cell_type": "markdown",
   "id": "e8f6d4d6",
   "metadata": {},
   "source": [
    "7.Train the linear model using hp as variable and MPG as target and print $\\theta_{0}$, $\\theta_{1}$ (10) \n",
    "\n",
    "(hint: use the fomula: $\\theta = (\\mathrm{X}^{T}\\mathrm{X})^{-1}\\mathrm{X}^{T}\\mathrm{y}$)"
   ]
  },
  {
   "cell_type": "code",
   "execution_count": 139,
   "id": "2ec40e1d",
   "metadata": {},
   "outputs": [
    {
     "data": {
      "text/plain": [
       "array([30.09886054, -0.06822828])"
      ]
     },
     "execution_count": 139,
     "metadata": {},
     "output_type": "execute_result"
    }
   ],
   "source": [
    "hp = cars_df[\"hp\"]\n",
    "a = np.ones((hp.shape[0],1))\n",
    "x = np.hstack((a, hp.values.reshape(-1,1)))\n",
    "y = cars_df[\"mpg\"]\n",
    "theta = np.matmul(np.linalg.inv(np.matmul(x.T,x)), np.matmul(x.T,y))\n",
    "theta"
   ]
  },
  {
   "cell_type": "markdown",
   "id": "dfe56b1a",
   "metadata": {},
   "source": [
    "8.Plat the scatter plot again with the line showing the linear model.(10)"
   ]
  },
  {
   "cell_type": "code",
   "execution_count": 140,
   "id": "fcba9108",
   "metadata": {},
   "outputs": [
    {
     "data": {
      "image/png": "[encoded data removed]",
      "text/plain": [
       "<Figure size 600x400 with 1 Axes>"
      ]
     },
     "metadata": {},
     "output_type": "display_data"
    }
   ],
   "source": [
    "cars_df.plot(kind = 'scatter', x = 'hp', y = 'mpg', figsize=(6,4))\n",
    "plt.axis([50, 300, 10, 35])\n",
    "X = np.linspace(0, 500, 5)\n",
    "plt.plot(x,theta[0] + theta[1]*x, \"b\") \n",
    "plt.text(50, 15, r\"$\\theta_0 = 30.09$\", fontsize=13, color=\"b\")\n",
    "plt.text(50, 12, r\"$\\theta_1 = -0.06 \\times 10^{-5}$\", fontsize=13, color=\"b\") \n",
    "plt.show()"
   ]
  },
  {
   "cell_type": "markdown",
   "id": "e9303ae8",
   "metadata": {},
   "source": [
    "9.Random choose 3 datapoint from the dataset, use the linear model to predict the MPG with HP, show the difference between predict value and real value. (10)"
   ]
  },
  {
   "cell_type": "code",
   "execution_count": 141,
   "id": "7bbf7bb9",
   "metadata": {},
   "outputs": [
    {
     "name": "stdout",
     "output_type": "stream",
     "text": [
      "The predicted value for 93:  23.753630678967042\n",
      "The difference or cost function is :  0.9536306789670412\n",
      "The predicted value for 123:  21.70678233682014\n",
      "The difference or cost function is :  3.9067823368201395\n",
      "The predicted value for 175:  18.158911877098838\n",
      "The difference or cost function is :  -1.0410881229011615\n"
     ]
    }
   ],
   "source": [
    "value_93 = 93\n",
    "predicted_value_for_93 = theta[0] + theta[1] * value_93\n",
    "print('The predicted value for 93: ',predicted_value_for_93 )\n",
    "print('The difference or cost function is : ',predicted_value_for_93 - 22.8 )\n",
    "\n",
    "value_123 = 123\n",
    "predicted_value_for_123 = theta[0] + theta[1] * value_123\n",
    "print('The predicted value for 123: ',predicted_value_for_123 )\n",
    "print('The difference or cost function is : ',predicted_value_for_123 - 17.8 )\n",
    "\n",
    "value_175 = 175\n",
    "predicted_value_for_175 = theta[0] + theta[1] * value_175\n",
    "print('The predicted value for 175: ',predicted_value_for_175 )\n",
    "print('The difference or cost function is : ',predicted_value_for_175 - 19.2 )\n"
   ]
  },
  {
   "cell_type": "markdown",
   "id": "3eb510b9",
   "metadata": {},
   "source": [
    "10.Explain the why some differences are large, some are not(10)"
   ]
  },
  {
   "cell_type": "code",
   "execution_count": 142,
   "id": "6c8b8056",
   "metadata": {},
   "outputs": [
    {
     "name": "stdout",
     "output_type": "stream",
     "text": [
      "Some differences are larger because this model is not 100% perfect, therefore it is more precise for some datapoints that it is for other data points\n"
     ]
    }
   ],
   "source": [
    "print(\"Some differences are larger because this model is not 100% perfect, therefore it is more precise for some datapoints that it is for other data points\")"
   ]
  },
  {
   "cell_type": "markdown",
   "id": "06b18002",
   "metadata": {},
   "source": [
    "11.Find $\\mathrm{R}^{2}$ and use $\\mathrm{R}^{2}$ to explain whether the model is accurate.(10)"
   ]
  },
  {
   "cell_type": "code",
   "execution_count": 8,
   "id": "73a9eecf",
   "metadata": {},
   "outputs": [
    {
     "name": "stdout",
     "output_type": "stream",
     "text": [
      "                            OLS Regression Results                            \n",
      "==============================================================================\n",
      "Dep. Variable:                    mpg   R-squared:                       0.602\n",
      "Model:                            OLS   Adj. R-squared:                  0.589\n",
      "Method:                 Least Squares   F-statistic:                     45.46\n",
      "Date:                Thu, 25 Jan 2024   Prob (F-statistic):           1.79e-07\n",
      "Time:                        22:50:11   Log-Likelihood:                -87.619\n",
      "No. Observations:                  32   AIC:                             179.2\n",
      "Df Residuals:                      30   BIC:                             182.2\n",
      "Df Model:                           1                                         \n",
      "Covariance Type:            nonrobust                                         \n",
      "==============================================================================\n",
      "                 coef    std err          t      P>|t|      [0.025      0.975]\n",
      "------------------------------------------------------------------------------\n",
      "const         30.0989      1.634     18.421      0.000      26.762      33.436\n",
      "hp            -0.0682      0.010     -6.742      0.000      -0.089      -0.048\n",
      "==============================================================================\n",
      "Omnibus:                        3.692   Durbin-Watson:                   1.134\n",
      "Prob(Omnibus):                  0.158   Jarque-Bera (JB):                2.984\n",
      "Skew:                           0.747   Prob(JB):                        0.225\n",
      "Kurtosis:                       2.935   Cond. No.                         386.\n",
      "==============================================================================\n",
      "\n",
      "Notes:\n",
      "[1] Standard Errors assume that the covariance matrix of the errors is correctly specified.\n"
     ]
    }
   ],
   "source": [
    "x = sm.add_constant(cars_df['hp'])\n",
    "model = sm.OLS(cars_df['mpg'], x).fit()\n",
    "print(model.summary())"
   ]
  },
  {
   "cell_type": "code",
   "execution_count": null,
   "id": "6f7871e0",
   "metadata": {},
   "outputs": [],
   "source": [
    "print(\"From the summary, the given R-Squared is 0.602, this means that 60.2% of the variation in mpg can be explained linear regression liine of mpg on hp\", )"
   ]
  }
 ],
 "metadata": {
  "kernelspec": {
   "display_name": "Python 3 (ipykernel)",
   "language": "python",
   "name": "python3"
  },
  "language_info": {
   "codemirror_mode": {
    "name": "ipython",
    "version": 3
   },
   "file_extension": ".py",
   "mimetype": "text/x-python",
   "name": "python",
   "nbconvert_exporter": "python",
   "pygments_lexer": "ipython3",
   "version": "3.11.5"
  }
 },
 "nbformat": 4,
 "nbformat_minor": 5
}
